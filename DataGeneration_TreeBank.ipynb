{
 "cells": [
  {
   "cell_type": "code",
   "execution_count": 46,
   "metadata": {
    "collapsed": true
   },
   "outputs": [],
   "source": [
    "import nltk"
   ]
  },
  {
   "cell_type": "code",
   "execution_count": 47,
   "metadata": {
    "collapsed": false
   },
   "outputs": [],
   "source": [
    "from nltk.corpus import treebank"
   ]
  },
  {
   "cell_type": "code",
   "execution_count": 167,
   "metadata": {
    "collapsed": false
   },
   "outputs": [],
   "source": [
    "from collections import Counter\n",
    "from collections import defaultdict\n",
    "\n",
    "ids = nltk.corpus.treebank.fileids()\n",
    "# select words from one source print(treebank.words('wsj_0003.mrg')) # all words: 100676\n",
    "#cnt = Counter()\n",
    "words = treebank.words()\n",
    "frequency = 10\n",
    "word_set = set()\n",
    "cnt = Counter(words)\n",
    "for word, count in Counter(words).items():\n",
    "    if count >= frequency and word.isalpha():\n",
    "        word_set.add(word)\n",
    "\n",
    "# to count the words with frequency\n",
    "word2Id = defaultdict(set)\n",
    "# make sure that the word does not come from the same sentence\n",
    "for id in ids:\n",
    "        words = treebank.words(id)\n",
    "        for word in words:\n",
    "              if word in word_set:\n",
    "                word2Id[word].add(id)"
   ]
  },
  {
   "cell_type": "code",
   "execution_count": 168,
   "metadata": {
    "collapsed": false
   },
   "outputs": [
    {
     "name": "stdout",
     "output_type": "stream",
     "text": [
      "1152\n",
      "['The', 'asbestos', 'fiber', ',', 'crocidolite', ',', 'is', 'unusually', 'resilient', 'once', 'it', 'enters', 'the', 'lungs', ',', 'with', 'even', 'brief', 'exposures', 'to', 'it', 'causing', 'symptoms', 'that', '*T*-1', 'show', 'up', 'decades', 'later', ',', 'researchers', 'said', '0', '*T*-2', '.']\n"
     ]
    }
   ],
   "source": [
    "# 1152 \n",
    "print(len(word2Id))"
   ]
  },
  {
   "cell_type": "code",
   "execution_count": 169,
   "metadata": {
    "collapsed": false
   },
   "outputs": [],
   "source": [
    "# For all words with frequency >10, remove one word from each sentence and substitue with \"<blank_token>\" to generate a marked sentence\n",
    "# Store the sentence in seperated words with the missing word at the end in the dataset\n",
    "\n",
    "dataset = []\n",
    "count = defaultdict(int)\n",
    "for keyword in word2Id:\n",
    "        ids = list(word2Id[keyword])\n",
    "        for id in ids[:10]:\n",
    "            if count[keyword] > 9:\n",
    "                    break\n",
    "            else:\n",
    "                sents = list(treebank.sents(id))\n",
    "                for sent in sents:\n",
    "                    if count[keyword] > 9:\n",
    "                        break\n",
    "                    elif keyword in sent:\n",
    "                        k = sent.index(keyword)\n",
    "                        sent[k] = \"<blank_token>\"\n",
    "                        sent.append(keyword)\n",
    "                        dataset.append([i for i in sent if i.isalpha() or i == \"<blank_token>\"])\n",
    "                        count[keyword] += 1"
   ]
  },
  {
   "cell_type": "code",
   "execution_count": 170,
   "metadata": {
    "collapsed": false
   },
   "outputs": [
    {
     "name": "stdout",
     "output_type": "stream",
     "text": [
      "11480\n"
     ]
    }
   ],
   "source": [
    "import numpy as np\n",
    "print(len(dataset)) #11480\n",
    "np.save(\"dataset.npy\", np.asarray(dataset))"
   ]
  },
  {
   "cell_type": "code",
   "execution_count": 171,
   "metadata": {
    "collapsed": false
   },
   "outputs": [],
   "source": [
    "# use the dataset\n",
    "data = np.load('dataset.npy')"
   ]
  },
  {
   "cell_type": "code",
   "execution_count": 173,
   "metadata": {
    "collapsed": false
   },
   "outputs": [],
   "source": [
    "# load the dataset and reshape it with class * examples per class\n",
    "np.reshape(data, newshape=(1148, 10))\n",
    "x_train, x_test = data[:1000], data[1000:]"
   ]
  },
  {
   "cell_type": "code",
   "execution_count": null,
   "metadata": {
    "collapsed": false
   },
   "outputs": [],
   "source": []
  },
  {
   "cell_type": "code",
   "execution_count": null,
   "metadata": {
    "collapsed": true
   },
   "outputs": [],
   "source": []
  }
 ],
 "metadata": {
  "kernelspec": {
   "display_name": "Python 3",
   "language": "python",
   "name": "python3"
  },
  "language_info": {
   "codemirror_mode": {
    "name": "ipython",
    "version": 3
   },
   "file_extension": ".py",
   "mimetype": "text/x-python",
   "name": "python",
   "nbconvert_exporter": "python",
   "pygments_lexer": "ipython3",
   "version": "3.5.3"
  }
 },
 "nbformat": 4,
 "nbformat_minor": 2
}
